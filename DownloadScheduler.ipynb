{
 "cells": [
  {
   "cell_type": "code",
   "execution_count": 31,
   "id": "82f42976",
   "metadata": {},
   "outputs": [],
   "source": [
    "\n",
    "from selenium import webdriver\n",
    "from webdriver_manager.chrome import ChromeDriverManager\n",
    "import pandas as pd\n",
    "import time\n",
    "import webbrowser\n",
    "\n",
    "# driver = webdriver.Chrome(ChromeDriverManager().install())\n",
    "\n",
    "url = 'https://www.kaggle.com/chetankv/dogs-cats-images'\n",
    "\n",
    "# xattr -d com.apple.quarantine /usr/local/bin/chromedriver -> Use this if apple denies to open\n",
    "# the chromedriver due to security reasons\n",
    "driver = webdriver.Chrome('/Users/thejakamahaulpatha/PycharmProjects/Scheduling/chromedriver')\n",
    "\n",
    "driver.get(url)\n",
    "# time.sleep(20)\n",
    "\n",
    "\n",
    "\n",
    "\n"
   ]
  },
  {
   "cell_type": "code",
   "execution_count": 32,
   "id": "0d3d789b",
   "metadata": {},
   "outputs": [],
   "source": [
    "def Login():\n",
    "    try:\n",
    "        driver.get(driver.current_url)\n",
    "        \n",
    "        log_button = driver.find_element_by_xpath(\"/html/body/main/div[1]/div/div[1]/div[2]/div[2]/div/div[1]/a/button\")\n",
    "        log_button.click()      \n",
    "        time.sleep(6)\n",
    "        \n",
    "    except:\n",
    "        raise Exception\n",
    "\n",
    "def Login2():\n",
    "    try:\n",
    "        driver.get(driver.current_url)\n",
    "\n",
    "        log_button = driver.find_element_by_xpath(\"/html/body/main/div[1]/div[1]/div/form/div[2]/div/div[2]/a/li/div/span\")\n",
    "        log_button.click()      \n",
    "        time.sleep(6)\n",
    "        \n",
    "    except:\n",
    "        raise Exception\n",
    "        \n",
    "def Login3():\n",
    "    try:\n",
    "        driver.get(driver.current_url)\n",
    "\n",
    "#         username = driver.find_element_by_xpath(\"/html/body/main/div[1]/div[1]/div/form/div[2]/div[1]/div/div\")\n",
    "        \n",
    "        username = driver.find_element_by_xpath(\"/html/body/main/div[1]/div[1]/div/form/div[2]/div[1]/div/div/input\")\n",
    "        username.send_keys(\"thejaka.mahaulpatha@gmail.com\")\n",
    "\n",
    "        password = driver.find_element_by_xpath(\"/html/body/main/div[1]/div[1]/div/form/div[2]/div[2]/div/div/input\")\n",
    "        password.send_keys(\"Thejaka@123\")\n",
    "        \n",
    "        signIn_button = driver.find_element_by_xpath(\"/html/body/main/div[1]/div[1]/div/form/div[2]/div[3]/button\")\n",
    "        signIn_button.click()\n",
    "       \n",
    "        time.sleep(6)\n",
    "        \n",
    "    except:\n",
    "        raise Exception\n",
    "\n",
    "\n",
    "def GetData():\n",
    "    try:\n",
    "        driver.get(driver.current_url)\n",
    "        \n",
    "        submit_button = driver.find_element_by_xpath(\"/html/body/main/div[1]/div/div[5]/div[3]/div[1]/div/div/div[2]/div[2]/div[1]/div[2]/a/button/span\")\n",
    "        submit_button.click()\n",
    "        \n",
    "    except:\n",
    "        raise Exception"
   ]
  },
  {
   "cell_type": "code",
   "execution_count": 33,
   "id": "604ab372",
   "metadata": {},
   "outputs": [],
   "source": [
    "def Exec_all():\n",
    "    \n",
    "    Login()\n",
    "    Login2()\n",
    "    Login3()\n",
    "    GetData()\n",
    "    "
   ]
  },
  {
   "cell_type": "code",
   "execution_count": 34,
   "id": "5e50c8bb",
   "metadata": {},
   "outputs": [],
   "source": [
    "from datetime import datetime\n",
    "from threading import Timer\n",
    "\n",
    "x=datetime.today()\n",
    "y=x.replace(day=x.day, hour=23, minute=7, second=0, microsecond=0)\n",
    "delta_t=y-x\n",
    "\n",
    "secs=delta_t.seconds+1\n",
    "\n",
    "t = Timer(secs, Exec_all)\n",
    "t.start()"
   ]
  },
  {
   "cell_type": "code",
   "execution_count": 35,
   "id": "e005fb75",
   "metadata": {},
   "outputs": [
    {
     "name": "stdout",
     "output_type": "stream",
     "text": [
      "19\n"
     ]
    },
    {
     "name": "stderr",
     "output_type": "stream",
     "text": [
      "Exception in thread Thread-12:\n",
      "Traceback (most recent call last):\n",
      "  File \"<ipython-input-32-b6d7ea475f7d>\", line 48, in GetData\n",
      "  File \"/Users/thejakamahaulpatha/opt/anaconda3/lib/python3.8/site-packages/selenium/webdriver/remote/webdriver.py\", line 394, in find_element_by_xpath\n",
      "    return self.find_element(by=By.XPATH, value=xpath)\n",
      "  File \"/Users/thejakamahaulpatha/opt/anaconda3/lib/python3.8/site-packages/selenium/webdriver/remote/webdriver.py\", line 976, in find_element\n",
      "    return self.execute(Command.FIND_ELEMENT, {\n",
      "  File \"/Users/thejakamahaulpatha/opt/anaconda3/lib/python3.8/site-packages/selenium/webdriver/remote/webdriver.py\", line 321, in execute\n",
      "    self.error_handler.check_response(response)\n",
      "  File \"/Users/thejakamahaulpatha/opt/anaconda3/lib/python3.8/site-packages/selenium/webdriver/remote/errorhandler.py\", line 242, in check_response\n",
      "    raise exception_class(message, screen, stacktrace)\n",
      "selenium.common.exceptions.NoSuchElementException: Message: no such element: Unable to locate element: {\"method\":\"xpath\",\"selector\":\"/html/body/main/div[1]/div/div[5]/div[3]/div[1]/div/div/div[2]/div[2]/div[1]/div[2]/a/button/span\"}\n",
      "  (Session info: chrome=92.0.4515.107)\n",
      "\n",
      "\n",
      "During handling of the above exception, another exception occurred:\n",
      "\n",
      "Traceback (most recent call last):\n",
      "  File \"/Users/thejakamahaulpatha/opt/anaconda3/lib/python3.8/threading.py\", line 932, in _bootstrap_inner\n",
      "    self.run()\n",
      "  File \"/Users/thejakamahaulpatha/opt/anaconda3/lib/python3.8/threading.py\", line 1254, in run\n",
      "    self.function(*self.args, **self.kwargs)\n",
      "  File \"<ipython-input-33-df46fe534e40>\", line 6, in Exec_all\n",
      "  File \"<ipython-input-32-b6d7ea475f7d>\", line 52, in GetData\n",
      "Exception\n"
     ]
    }
   ],
   "source": [
    "print(secs)"
   ]
  },
  {
   "cell_type": "code",
   "execution_count": null,
   "id": "bf33e50f",
   "metadata": {},
   "outputs": [],
   "source": []
  }
 ],
 "metadata": {
  "kernelspec": {
   "display_name": "Python 3",
   "language": "python",
   "name": "python3"
  },
  "language_info": {
   "codemirror_mode": {
    "name": "ipython",
    "version": 3
   },
   "file_extension": ".py",
   "mimetype": "text/x-python",
   "name": "python",
   "nbconvert_exporter": "python",
   "pygments_lexer": "ipython3",
   "version": "3.8.8"
  }
 },
 "nbformat": 4,
 "nbformat_minor": 5
}
